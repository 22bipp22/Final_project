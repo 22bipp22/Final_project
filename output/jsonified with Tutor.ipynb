{
 "cells": [
  {
   "cell_type": "markdown",
   "metadata": {},
   "source": [
    "   # Import Dependencies"
   ]
  },
  {
   "cell_type": "code",
   "execution_count": 1,
   "metadata": {},
   "outputs": [],
   "source": [
    "from bs4 import BeautifulSoup as bs\n",
    "import pandas as pd\n",
    "import requests\n",
    "from sqlalchemy import create_engine\n",
    "import os\n"
   ]
  },
  {
   "cell_type": "markdown",
   "metadata": {},
   "source": [
    "# Import datasets and create dataframes"
   ]
  },
  {
   "cell_type": "code",
   "execution_count": 2,
   "metadata": {},
   "outputs": [],
   "source": [
    "# Reading the poverty and income csv file and creating a dataframe\n",
    "income_csv_file =\"2018_poverty_income.csv\"\n",
    "income_df = pd.read_csv(income_csv_file, encoding = \"UTF-8\")\n",
    "income_df.rename(columns={'County Name': 'County'}, inplace=True)\n",
    "\n",
    "#income_df"
   ]
  },
  {
   "cell_type": "code",
   "execution_count": 3,
   "metadata": {},
   "outputs": [
    {
     "data": {
      "text/html": [
       "<div>\n",
       "<style scoped>\n",
       "    .dataframe tbody tr th:only-of-type {\n",
       "        vertical-align: middle;\n",
       "    }\n",
       "\n",
       "    .dataframe tbody tr th {\n",
       "        vertical-align: top;\n",
       "    }\n",
       "\n",
       "    .dataframe thead th {\n",
       "        text-align: right;\n",
       "    }\n",
       "</style>\n",
       "<table border=\"1\" class=\"dataframe\">\n",
       "  <thead>\n",
       "    <tr style=\"text-align: right;\">\n",
       "      <th></th>\n",
       "      <th>County</th>\n",
       "      <th>Total_Crime</th>\n",
       "    </tr>\n",
       "  </thead>\n",
       "  <tbody>\n",
       "    <tr>\n",
       "      <th>0</th>\n",
       "      <td>Anderson County</td>\n",
       "      <td>404</td>\n",
       "    </tr>\n",
       "    <tr>\n",
       "      <th>1</th>\n",
       "      <td>Andrews County</td>\n",
       "      <td>97</td>\n",
       "    </tr>\n",
       "    <tr>\n",
       "      <th>2</th>\n",
       "      <td>Angelina County</td>\n",
       "      <td>588</td>\n",
       "    </tr>\n",
       "    <tr>\n",
       "      <th>3</th>\n",
       "      <td>Aransas County</td>\n",
       "      <td>340</td>\n",
       "    </tr>\n",
       "    <tr>\n",
       "      <th>4</th>\n",
       "      <td>Atascosa County</td>\n",
       "      <td>603</td>\n",
       "    </tr>\n",
       "    <tr>\n",
       "      <th>...</th>\n",
       "      <td>...</td>\n",
       "      <td>...</td>\n",
       "    </tr>\n",
       "    <tr>\n",
       "      <th>222</th>\n",
       "      <td>Wood County</td>\n",
       "      <td>274</td>\n",
       "    </tr>\n",
       "    <tr>\n",
       "      <th>223</th>\n",
       "      <td>Yoakum County</td>\n",
       "      <td>35</td>\n",
       "    </tr>\n",
       "    <tr>\n",
       "      <th>224</th>\n",
       "      <td>Young County</td>\n",
       "      <td>47</td>\n",
       "    </tr>\n",
       "    <tr>\n",
       "      <th>225</th>\n",
       "      <td>Zapata County</td>\n",
       "      <td>209</td>\n",
       "    </tr>\n",
       "    <tr>\n",
       "      <th>226</th>\n",
       "      <td>Zavala County</td>\n",
       "      <td>44</td>\n",
       "    </tr>\n",
       "  </tbody>\n",
       "</table>\n",
       "<p>227 rows × 2 columns</p>\n",
       "</div>"
      ],
      "text/plain": [
       "              County  Total_Crime\n",
       "0    Anderson County          404\n",
       "1     Andrews County           97\n",
       "2    Angelina County          588\n",
       "3     Aransas County          340\n",
       "4    Atascosa County          603\n",
       "..               ...          ...\n",
       "222      Wood County          274\n",
       "223    Yoakum County           35\n",
       "224     Young County           47\n",
       "225    Zapata County          209\n",
       "226    Zavala County           44\n",
       "\n",
       "[227 rows x 2 columns]"
      ]
     },
     "execution_count": 3,
     "metadata": {},
     "output_type": "execute_result"
    }
   ],
   "source": [
    "# Reading the crime csv file and creating a dataframe\n",
    "crime_csv_file =\"crime_data.csv\"\n",
    "crime_df = pd.read_csv(crime_csv_file, encoding = \"UTF-8\")\n",
    "\n",
    "# crime_df = all_crime_df.drop(columns=[\"Unnamed: 11\", \"Unnamed: 12\", \"Unnamed: 13\", \"Unnamed: 14\", \"Unnamed: 15\", \"Unnamed: 16\", \"Unnamed: 17\", \"Unnamed: 18\"])\n",
    "\n",
    "crime_df.rename(columns={'Violent\\ncrime': 'Violent_Crime',\n",
    "                         \"Property\\ncrime\": \"Property_Crime\",\n",
    "                         \"Total Crime\": \"Total_Crime\"\n",
    "                        }, inplace=True)\n",
    "\n",
    "# # crime_df[\"Property_Crime\"] = crime_df[\"Property_Crime\"].astype(float)\n",
    "\n",
    "# # crime_df[\"Total_Crimes\"]= int(crime_df[\"Violent_Crime\"]) + int(crime_df[\"Property_Crime\"])\n",
    "# crime_df[\"Property_Crime\"].fillna(value=0)\n",
    "# # crime_df[\"Property_Crime\"] = crime_df['Property_Crime'].str.rstrip(\",\").astype(float)\n",
    "# crime_df[\"Property_Crime\"].fillna(value=0)\n",
    "\n",
    "crime_df = crime_df.drop(columns=[\"Violent_Crime\", \"Property_Crime\"])\n",
    "crime_df"
   ]
  },
  {
   "cell_type": "code",
   "execution_count": 4,
   "metadata": {},
   "outputs": [],
   "source": [
    "#Reading the coordinates csv file and creating dataframe\n",
    "coordinate_csv_file = \"countycoordinates.csv\"\n",
    "coordinate_df = pd.read_csv(coordinate_csv_file, encoding = \"UTF-8\")\n",
    "coordinate_df.rename(columns={'County Name': 'County'}, inplace=True)"
   ]
  },
  {
   "cell_type": "code",
   "execution_count": 5,
   "metadata": {},
   "outputs": [],
   "source": [
    "# Reading the population csv file and creating a dataframe\n",
    "population_csv_file =\"population.csv\"\n",
    "population_df = pd.read_csv(population_csv_file, encoding = \"UTF-8\")\n",
    "\n",
    "#population_df"
   ]
  },
  {
   "cell_type": "code",
   "execution_count": 6,
   "metadata": {},
   "outputs": [],
   "source": [
    "# Reading the crime csv file and creating a dataframe\n",
    "unemployment_csv_file =\"Unemployment rate.csv\"\n",
    "unemployment_df = pd.read_csv(unemployment_csv_file, encoding = \"UTF-8\")\n",
    "unemployment_df.rename(columns={'County Name': 'County'}, inplace=True)\n",
    "\n",
    "#unemployment_df"
   ]
  },
  {
   "cell_type": "code",
   "execution_count": 7,
   "metadata": {},
   "outputs": [
    {
     "data": {
      "text/html": [
       "<div>\n",
       "<style scoped>\n",
       "    .dataframe tbody tr th:only-of-type {\n",
       "        vertical-align: middle;\n",
       "    }\n",
       "\n",
       "    .dataframe tbody tr th {\n",
       "        vertical-align: top;\n",
       "    }\n",
       "\n",
       "    .dataframe thead th {\n",
       "        text-align: right;\n",
       "    }\n",
       "</style>\n",
       "<table border=\"1\" class=\"dataframe\">\n",
       "  <thead>\n",
       "    <tr style=\"text-align: right;\">\n",
       "      <th></th>\n",
       "      <th>County</th>\n",
       "      <th>Land Area (mi2)</th>\n",
       "      <th>PopulationDensity (mi2)</th>\n",
       "      <th>Total Area (mi2)</th>\n",
       "    </tr>\n",
       "  </thead>\n",
       "  <tbody>\n",
       "    <tr>\n",
       "      <th>0</th>\n",
       "      <td>Anderson County</td>\n",
       "      <td>1062.6</td>\n",
       "      <td>55.0</td>\n",
       "      <td>1078.0</td>\n",
       "    </tr>\n",
       "    <tr>\n",
       "      <th>1</th>\n",
       "      <td>Andrews County</td>\n",
       "      <td>1500.7</td>\n",
       "      <td>9.9</td>\n",
       "      <td>1501.1</td>\n",
       "    </tr>\n",
       "    <tr>\n",
       "      <th>2</th>\n",
       "      <td>Angelina County</td>\n",
       "      <td>797.8</td>\n",
       "      <td>108.8</td>\n",
       "      <td>864.7</td>\n",
       "    </tr>\n",
       "    <tr>\n",
       "      <th>3</th>\n",
       "      <td>Aransas County</td>\n",
       "      <td>252.1</td>\n",
       "      <td>91.9</td>\n",
       "      <td>528.0</td>\n",
       "    </tr>\n",
       "    <tr>\n",
       "      <th>4</th>\n",
       "      <td>Archer County</td>\n",
       "      <td>903.1</td>\n",
       "      <td>10.0</td>\n",
       "      <td>925.4</td>\n",
       "    </tr>\n",
       "    <tr>\n",
       "      <th>...</th>\n",
       "      <td>...</td>\n",
       "      <td>...</td>\n",
       "      <td>...</td>\n",
       "      <td>...</td>\n",
       "    </tr>\n",
       "    <tr>\n",
       "      <th>250</th>\n",
       "      <td>Wood County</td>\n",
       "      <td>645.2</td>\n",
       "      <td>65.0</td>\n",
       "      <td>695.7</td>\n",
       "    </tr>\n",
       "    <tr>\n",
       "      <th>251</th>\n",
       "      <td>Yoakum County</td>\n",
       "      <td>799.7</td>\n",
       "      <td>9.9</td>\n",
       "      <td>799.7</td>\n",
       "    </tr>\n",
       "    <tr>\n",
       "      <th>252</th>\n",
       "      <td>Young County</td>\n",
       "      <td>914.5</td>\n",
       "      <td>20.3</td>\n",
       "      <td>930.9</td>\n",
       "    </tr>\n",
       "    <tr>\n",
       "      <th>253</th>\n",
       "      <td>Zapata County</td>\n",
       "      <td>998.4</td>\n",
       "      <td>14.0</td>\n",
       "      <td>1058.0</td>\n",
       "    </tr>\n",
       "    <tr>\n",
       "      <th>254</th>\n",
       "      <td>Zavala County</td>\n",
       "      <td>1297.4</td>\n",
       "      <td>9.0</td>\n",
       "      <td>1301.7</td>\n",
       "    </tr>\n",
       "  </tbody>\n",
       "</table>\n",
       "<p>255 rows × 4 columns</p>\n",
       "</div>"
      ],
      "text/plain": [
       "              County  Land Area (mi2)  PopulationDensity (mi2)  \\\n",
       "0    Anderson County           1062.6                     55.0   \n",
       "1     Andrews County           1500.7                      9.9   \n",
       "2    Angelina County            797.8                    108.8   \n",
       "3     Aransas County            252.1                     91.9   \n",
       "4      Archer County            903.1                     10.0   \n",
       "..               ...              ...                      ...   \n",
       "250      Wood County            645.2                     65.0   \n",
       "251    Yoakum County            799.7                      9.9   \n",
       "252     Young County            914.5                     20.3   \n",
       "253    Zapata County            998.4                     14.0   \n",
       "254    Zavala County           1297.4                      9.0   \n",
       "\n",
       "     Total Area (mi2)  \n",
       "0              1078.0  \n",
       "1              1501.1  \n",
       "2               864.7  \n",
       "3               528.0  \n",
       "4               925.4  \n",
       "..                ...  \n",
       "250             695.7  \n",
       "251             799.7  \n",
       "252             930.9  \n",
       "253            1058.0  \n",
       "254            1301.7  \n",
       "\n",
       "[255 rows x 4 columns]"
      ]
     },
     "execution_count": 7,
     "metadata": {},
     "output_type": "execute_result"
    }
   ],
   "source": [
    "# Reading the crime csv file and creating a dataframe\n",
    "area_csv_file =\"area.csv\"\n",
    "area_df = pd.read_csv(area_csv_file, encoding = \"UTF-8\")\n",
    "area_df.rename(columns={'Name': 'County'}, inplace=True)\n",
    "area_df"
   ]
  },
  {
   "cell_type": "markdown",
   "metadata": {},
   "source": [
    "# Merge data"
   ]
  },
  {
   "cell_type": "code",
   "execution_count": null,
   "metadata": {},
   "outputs": [],
   "source": [
    "merge_df = income_df.merge(population_df, on = \"County\").merge(unemployment_df, on = \"County\").merge(coordinate_df, on = \"County\")\n",
    "\n",
    "complete_df = merge_df.merge(crime_df, how = \"left\", on = \"County\")\n",
    "\n",
    "complete_df"
   ]
  },
  {
   "cell_type": "markdown",
   "metadata": {},
   "source": [
    "# Output a combined csv file"
   ]
  },
  {
   "cell_type": "code",
   "execution_count": null,
   "metadata": {},
   "outputs": [],
   "source": [
    "complete_df.to_csv('complete.csv', index=False)"
   ]
  },
  {
   "cell_type": "code",
   "execution_count": null,
   "metadata": {},
   "outputs": [],
   "source": [
    "#convert to a json\n",
    "complete_df.to_json('complete.json', index=True)"
   ]
  },
  {
   "cell_type": "code",
   "execution_count": null,
   "metadata": {},
   "outputs": [],
   "source": []
  },
  {
   "cell_type": "code",
   "execution_count": null,
   "metadata": {},
   "outputs": [],
   "source": []
  }
 ],
 "metadata": {
  "kernelspec": {
   "display_name": "Python 3",
   "language": "python",
   "name": "python3"
  },
  "language_info": {
   "codemirror_mode": {
    "name": "ipython",
    "version": 3
   },
   "file_extension": ".py",
   "mimetype": "text/x-python",
   "name": "python",
   "nbconvert_exporter": "python",
   "pygments_lexer": "ipython3",
   "version": "3.6.10"
  }
 },
 "nbformat": 4,
 "nbformat_minor": 4
}
