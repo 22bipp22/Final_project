{
 "cells": [
  {
   "cell_type": "code",
   "execution_count": 1,
   "metadata": {},
   "outputs": [],
   "source": [
    "import pandas as pd\n",
    "import numpy as np\n",
    "import tensorflow as tf\n",
    "import sklearn.preprocessing as preprocessing\n",
    "import sklearn.model_selection as model_selection\n",
    "import matplotlib.pyplot as plt"
   ]
  },
  {
   "cell_type": "code",
   "execution_count": 29,
   "metadata": {},
   "outputs": [
    {
     "data": {
      "text/html": [
       "<div>\n",
       "<style scoped>\n",
       "    .dataframe tbody tr th:only-of-type {\n",
       "        vertical-align: middle;\n",
       "    }\n",
       "\n",
       "    .dataframe tbody tr th {\n",
       "        vertical-align: top;\n",
       "    }\n",
       "\n",
       "    .dataframe thead th {\n",
       "        text-align: right;\n",
       "    }\n",
       "</style>\n",
       "<table border=\"1\" class=\"dataframe\">\n",
       "  <thead>\n",
       "    <tr style=\"text-align: right;\">\n",
       "      <th></th>\n",
       "      <th>draw</th>\n",
       "      <th>horse_age</th>\n",
       "      <th>horse_country</th>\n",
       "      <th>horse_type</th>\n",
       "      <th>horse_rating</th>\n",
       "      <th>declared_weight</th>\n",
       "      <th>actual_weight</th>\n",
       "      <th>win_odds</th>\n",
       "      <th>horse_id</th>\n",
       "      <th>venue</th>\n",
       "      <th>config</th>\n",
       "      <th>surface</th>\n",
       "      <th>distance</th>\n",
       "      <th>going</th>\n",
       "      <th>race_class</th>\n",
       "      <th>won</th>\n",
       "    </tr>\n",
       "  </thead>\n",
       "  <tbody>\n",
       "    <tr>\n",
       "      <th>0</th>\n",
       "      <td>7</td>\n",
       "      <td>3</td>\n",
       "      <td>1</td>\n",
       "      <td>3</td>\n",
       "      <td>60</td>\n",
       "      <td>1020.0</td>\n",
       "      <td>133</td>\n",
       "      <td>9.7</td>\n",
       "      <td>3917</td>\n",
       "      <td>1</td>\n",
       "      <td>0</td>\n",
       "      <td>0</td>\n",
       "      <td>1400</td>\n",
       "      <td>2</td>\n",
       "      <td>5</td>\n",
       "      <td>0</td>\n",
       "    </tr>\n",
       "    <tr>\n",
       "      <th>1</th>\n",
       "      <td>12</td>\n",
       "      <td>3</td>\n",
       "      <td>11</td>\n",
       "      <td>3</td>\n",
       "      <td>60</td>\n",
       "      <td>980.0</td>\n",
       "      <td>133</td>\n",
       "      <td>16.0</td>\n",
       "      <td>2157</td>\n",
       "      <td>1</td>\n",
       "      <td>0</td>\n",
       "      <td>0</td>\n",
       "      <td>1400</td>\n",
       "      <td>2</td>\n",
       "      <td>5</td>\n",
       "      <td>0</td>\n",
       "    </tr>\n",
       "    <tr>\n",
       "      <th>2</th>\n",
       "      <td>8</td>\n",
       "      <td>3</td>\n",
       "      <td>11</td>\n",
       "      <td>3</td>\n",
       "      <td>60</td>\n",
       "      <td>1082.0</td>\n",
       "      <td>132</td>\n",
       "      <td>3.5</td>\n",
       "      <td>858</td>\n",
       "      <td>1</td>\n",
       "      <td>0</td>\n",
       "      <td>0</td>\n",
       "      <td>1400</td>\n",
       "      <td>2</td>\n",
       "      <td>5</td>\n",
       "      <td>0</td>\n",
       "    </tr>\n",
       "    <tr>\n",
       "      <th>3</th>\n",
       "      <td>13</td>\n",
       "      <td>3</td>\n",
       "      <td>12</td>\n",
       "      <td>3</td>\n",
       "      <td>60</td>\n",
       "      <td>1118.0</td>\n",
       "      <td>127</td>\n",
       "      <td>39.0</td>\n",
       "      <td>1853</td>\n",
       "      <td>1</td>\n",
       "      <td>0</td>\n",
       "      <td>0</td>\n",
       "      <td>1400</td>\n",
       "      <td>2</td>\n",
       "      <td>5</td>\n",
       "      <td>0</td>\n",
       "    </tr>\n",
       "    <tr>\n",
       "      <th>4</th>\n",
       "      <td>14</td>\n",
       "      <td>3</td>\n",
       "      <td>5</td>\n",
       "      <td>3</td>\n",
       "      <td>60</td>\n",
       "      <td>972.0</td>\n",
       "      <td>131</td>\n",
       "      <td>50.0</td>\n",
       "      <td>2796</td>\n",
       "      <td>1</td>\n",
       "      <td>0</td>\n",
       "      <td>0</td>\n",
       "      <td>1400</td>\n",
       "      <td>2</td>\n",
       "      <td>5</td>\n",
       "      <td>0</td>\n",
       "    </tr>\n",
       "    <tr>\n",
       "      <th>...</th>\n",
       "      <td>...</td>\n",
       "      <td>...</td>\n",
       "      <td>...</td>\n",
       "      <td>...</td>\n",
       "      <td>...</td>\n",
       "      <td>...</td>\n",
       "      <td>...</td>\n",
       "      <td>...</td>\n",
       "      <td>...</td>\n",
       "      <td>...</td>\n",
       "      <td>...</td>\n",
       "      <td>...</td>\n",
       "      <td>...</td>\n",
       "      <td>...</td>\n",
       "      <td>...</td>\n",
       "      <td>...</td>\n",
       "    </tr>\n",
       "    <tr>\n",
       "      <th>79439</th>\n",
       "      <td>6</td>\n",
       "      <td>5</td>\n",
       "      <td>1</td>\n",
       "      <td>3</td>\n",
       "      <td>87</td>\n",
       "      <td>1191.0</td>\n",
       "      <td>122</td>\n",
       "      <td>99.0</td>\n",
       "      <td>1238</td>\n",
       "      <td>1</td>\n",
       "      <td>0</td>\n",
       "      <td>0</td>\n",
       "      <td>1600</td>\n",
       "      <td>1</td>\n",
       "      <td>2</td>\n",
       "      <td>0</td>\n",
       "    </tr>\n",
       "    <tr>\n",
       "      <th>79440</th>\n",
       "      <td>4</td>\n",
       "      <td>5</td>\n",
       "      <td>11</td>\n",
       "      <td>3</td>\n",
       "      <td>84</td>\n",
       "      <td>1070.0</td>\n",
       "      <td>119</td>\n",
       "      <td>99.0</td>\n",
       "      <td>985</td>\n",
       "      <td>1</td>\n",
       "      <td>0</td>\n",
       "      <td>0</td>\n",
       "      <td>1600</td>\n",
       "      <td>1</td>\n",
       "      <td>2</td>\n",
       "      <td>0</td>\n",
       "    </tr>\n",
       "    <tr>\n",
       "      <th>79441</th>\n",
       "      <td>1</td>\n",
       "      <td>5</td>\n",
       "      <td>11</td>\n",
       "      <td>3</td>\n",
       "      <td>83</td>\n",
       "      <td>1148.0</td>\n",
       "      <td>120</td>\n",
       "      <td>99.0</td>\n",
       "      <td>3147</td>\n",
       "      <td>1</td>\n",
       "      <td>0</td>\n",
       "      <td>0</td>\n",
       "      <td>1600</td>\n",
       "      <td>1</td>\n",
       "      <td>2</td>\n",
       "      <td>0</td>\n",
       "    </tr>\n",
       "    <tr>\n",
       "      <th>79442</th>\n",
       "      <td>12</td>\n",
       "      <td>3</td>\n",
       "      <td>1</td>\n",
       "      <td>3</td>\n",
       "      <td>82</td>\n",
       "      <td>1266.0</td>\n",
       "      <td>119</td>\n",
       "      <td>4.6</td>\n",
       "      <td>1982</td>\n",
       "      <td>1</td>\n",
       "      <td>0</td>\n",
       "      <td>0</td>\n",
       "      <td>1600</td>\n",
       "      <td>1</td>\n",
       "      <td>2</td>\n",
       "      <td>0</td>\n",
       "    </tr>\n",
       "    <tr>\n",
       "      <th>79443</th>\n",
       "      <td>2</td>\n",
       "      <td>3</td>\n",
       "      <td>8</td>\n",
       "      <td>3</td>\n",
       "      <td>81</td>\n",
       "      <td>1092.0</td>\n",
       "      <td>118</td>\n",
       "      <td>99.0</td>\n",
       "      <td>3491</td>\n",
       "      <td>1</td>\n",
       "      <td>0</td>\n",
       "      <td>0</td>\n",
       "      <td>1600</td>\n",
       "      <td>1</td>\n",
       "      <td>2</td>\n",
       "      <td>0</td>\n",
       "    </tr>\n",
       "  </tbody>\n",
       "</table>\n",
       "<p>79444 rows × 16 columns</p>\n",
       "</div>"
      ],
      "text/plain": [
       "       draw  horse_age  horse_country  horse_type  horse_rating  \\\n",
       "0         7          3              1           3            60   \n",
       "1        12          3             11           3            60   \n",
       "2         8          3             11           3            60   \n",
       "3        13          3             12           3            60   \n",
       "4        14          3              5           3            60   \n",
       "...     ...        ...            ...         ...           ...   \n",
       "79439     6          5              1           3            87   \n",
       "79440     4          5             11           3            84   \n",
       "79441     1          5             11           3            83   \n",
       "79442    12          3              1           3            82   \n",
       "79443     2          3              8           3            81   \n",
       "\n",
       "       declared_weight  actual_weight  win_odds  horse_id  venue  config  \\\n",
       "0               1020.0            133       9.7      3917      1       0   \n",
       "1                980.0            133      16.0      2157      1       0   \n",
       "2               1082.0            132       3.5       858      1       0   \n",
       "3               1118.0            127      39.0      1853      1       0   \n",
       "4                972.0            131      50.0      2796      1       0   \n",
       "...                ...            ...       ...       ...    ...     ...   \n",
       "79439           1191.0            122      99.0      1238      1       0   \n",
       "79440           1070.0            119      99.0       985      1       0   \n",
       "79441           1148.0            120      99.0      3147      1       0   \n",
       "79442           1266.0            119       4.6      1982      1       0   \n",
       "79443           1092.0            118      99.0      3491      1       0   \n",
       "\n",
       "       surface  distance  going  race_class  won  \n",
       "0            0      1400      2           5    0  \n",
       "1            0      1400      2           5    0  \n",
       "2            0      1400      2           5    0  \n",
       "3            0      1400      2           5    0  \n",
       "4            0      1400      2           5    0  \n",
       "...        ...       ...    ...         ...  ...  \n",
       "79439        0      1600      1           2    0  \n",
       "79440        0      1600      1           2    0  \n",
       "79441        0      1600      1           2    0  \n",
       "79442        0      1600      1           2    0  \n",
       "79443        0      1600      1           2    0  \n",
       "\n",
       "[79444 rows x 16 columns]"
      ]
     },
     "execution_count": 29,
     "metadata": {},
     "output_type": "execute_result"
    }
   ],
   "source": [
    "horsedata_df = pd.read_csv(\"horsedata.csv\")\n",
    "horsedata_df = horsedata_df.drop(columns='race_id')\n",
    "horsedata_df"
   ]
  },
  {
   "cell_type": "code",
   "execution_count": 30,
   "metadata": {},
   "outputs": [
    {
     "name": "stdout",
     "output_type": "stream",
     "text": [
      "(79444, 15) (79444, 1)\n"
     ]
    }
   ],
   "source": [
    "X = horsedata_df[horsedata_df.columns[:-1]]\n",
    "y = horsedata_df[horsedata_df.columns[-1:]]\n",
    "print(X.shape, y.shape)"
   ]
  },
  {
   "cell_type": "code",
   "execution_count": 31,
   "metadata": {},
   "outputs": [],
   "source": [
    "from sklearn.model_selection import train_test_split\n",
    "X_train, X_test, y_train, y_test = train_test_split(X, y, random_state=1, stratify=y)"
   ]
  },
  {
   "cell_type": "code",
   "execution_count": 32,
   "metadata": {},
   "outputs": [],
   "source": [
    "from sklearn.preprocessing import MinMaxScaler\n",
    "X_scaler = MinMaxScaler().fit(X_train)\n",
    "\n",
    "X_train_scaled = X_scaler.transform(X_train)\n",
    "X_test_scaled = X_scaler.transform(X_test)"
   ]
  },
  {
   "cell_type": "code",
   "execution_count": 33,
   "metadata": {},
   "outputs": [
    {
     "data": {
      "text/plain": [
       "SVC(kernel='linear')"
      ]
     },
     "execution_count": 33,
     "metadata": {},
     "output_type": "execute_result"
    }
   ],
   "source": [
    "from sklearn.svm import SVC \n",
    "model2 = SVC(kernel='linear')\n",
    "model2.fit(X_train_scaled, y_train.values.ravel())"
   ]
  },
  {
   "cell_type": "code",
   "execution_count": 34,
   "metadata": {},
   "outputs": [
    {
     "name": "stdout",
     "output_type": "stream",
     "text": [
      "Training Data Score: 0.9199436080761291\n",
      "Testing Data Score: 0.9199436080761291\n"
     ]
    }
   ],
   "source": [
    "print(f\"Training Data Score: {model2.score(X_train_scaled, y_train)}\")\n",
    "print(f\"Testing Data Score: {model2.score(X_test_scaled, y_test)}\")"
   ]
  },
  {
   "cell_type": "code",
   "execution_count": 35,
   "metadata": {},
   "outputs": [],
   "source": [
    "from sklearn.ensemble import RandomForestClassifier"
   ]
  },
  {
   "cell_type": "code",
   "execution_count": 36,
   "metadata": {},
   "outputs": [],
   "source": [
    "rf = RandomForestClassifier(n_estimators=200)\n",
    "rf = rf.fit(X_train_scaled, y_train.values.ravel())"
   ]
  },
  {
   "cell_type": "code",
   "execution_count": 37,
   "metadata": {},
   "outputs": [
    {
     "data": {
      "text/plain": [
       "1.0"
      ]
     },
     "execution_count": 37,
     "metadata": {},
     "output_type": "execute_result"
    }
   ],
   "source": [
    "rf.score(X_train_scaled, y_train.values.ravel())"
   ]
  },
  {
   "cell_type": "code",
   "execution_count": 38,
   "metadata": {},
   "outputs": [
    {
     "data": {
      "text/plain": [
       "array([0.07511347, 0.02488806, 0.04158808, 0.01068978, 0.05923837,\n",
       "       0.14005498, 0.0917206 , 0.21430362, 0.13973402, 0.01384531,\n",
       "       0.04896091, 0.00765939, 0.05280617, 0.03436079, 0.04503645])"
      ]
     },
     "execution_count": 38,
     "metadata": {},
     "output_type": "execute_result"
    }
   ],
   "source": [
    "importances = rf.feature_importances_\n",
    "importances"
   ]
  },
  {
   "cell_type": "code",
   "execution_count": 39,
   "metadata": {},
   "outputs": [
    {
     "data": {
      "text/plain": [
       "[(0.21430362031936753, 'win_odds'),\n",
       " (0.1400549796504483, 'declared_weight'),\n",
       " (0.13973401922020715, 'horse_id'),\n",
       " (0.09172060401287846, 'actual_weight'),\n",
       " (0.0751134663480649, 'draw'),\n",
       " (0.05923836971967682, 'horse_rating'),\n",
       " (0.052806166020559396, 'distance'),\n",
       " (0.048960906939370566, 'config'),\n",
       " (0.04503645079970037, 'race_class'),\n",
       " (0.04158808497248555, 'horse_country'),\n",
       " (0.034360792723162316, 'going'),\n",
       " (0.02488805717080917, 'horse_age'),\n",
       " (0.01384530711304252, 'venue'),\n",
       " (0.010689784098839035, 'horse_type'),\n",
       " (0.007659390891387854, 'surface')]"
      ]
     },
     "execution_count": 39,
     "metadata": {},
     "output_type": "execute_result"
    }
   ],
   "source": [
    "sorted(zip(rf.feature_importances_, X.columns), reverse=True)"
   ]
  },
  {
   "cell_type": "code",
   "execution_count": null,
   "metadata": {},
   "outputs": [],
   "source": []
  }
 ],
 "metadata": {
  "kernelspec": {
   "display_name": "Python [conda env:PythonAdv] *",
   "language": "python",
   "name": "conda-env-PythonAdv-py"
  },
  "language_info": {
   "codemirror_mode": {
    "name": "ipython",
    "version": 3
   },
   "file_extension": ".py",
   "mimetype": "text/x-python",
   "name": "python",
   "nbconvert_exporter": "python",
   "pygments_lexer": "ipython3",
   "version": "3.6.12"
  }
 },
 "nbformat": 4,
 "nbformat_minor": 4
}
